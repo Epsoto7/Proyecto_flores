{
  "nbformat": 4,
  "nbformat_minor": 0,
  "metadata": {
    "colab": {
      "provenance": [],
      "include_colab_link": true
    },
    "kernelspec": {
      "name": "python3",
      "display_name": "Python 3"
    },
    "language_info": {
      "name": "python"
    },
    "widgets": {
      "application/vnd.jupyter.widget-state+json": {
        "1f5e4b23f5194606bd6c05b8ba1bdb9d": {
          "model_module": "@jupyter-widgets/controls",
          "model_name": "HBoxModel",
          "model_module_version": "1.5.0",
          "state": {
            "_dom_classes": [],
            "_model_module": "@jupyter-widgets/controls",
            "_model_module_version": "1.5.0",
            "_model_name": "HBoxModel",
            "_view_count": null,
            "_view_module": "@jupyter-widgets/controls",
            "_view_module_version": "1.5.0",
            "_view_name": "HBoxView",
            "box_style": "",
            "children": [
              "IPY_MODEL_12771bd4039d4afaa143a1c41830e724",
              "IPY_MODEL_cedcca294f8e4401b6d7dae903817067",
              "IPY_MODEL_2a92fe1e04694c3fa9b28050353a1fc3"
            ],
            "layout": "IPY_MODEL_a44b675b91e2449db26fbf12fc38fab6"
          }
        },
        "12771bd4039d4afaa143a1c41830e724": {
          "model_module": "@jupyter-widgets/controls",
          "model_name": "HTMLModel",
          "model_module_version": "1.5.0",
          "state": {
            "_dom_classes": [],
            "_model_module": "@jupyter-widgets/controls",
            "_model_module_version": "1.5.0",
            "_model_name": "HTMLModel",
            "_view_count": null,
            "_view_module": "@jupyter-widgets/controls",
            "_view_module_version": "1.5.0",
            "_view_name": "HTMLView",
            "description": "",
            "description_tooltip": null,
            "layout": "IPY_MODEL_af5ac1d50e7b48aab87ab5e70034bd8b",
            "placeholder": "​",
            "style": "IPY_MODEL_ae742a32564d4ebc81d41da7680068bf",
            "value": "Dl Completed...: 100%"
          }
        },
        "cedcca294f8e4401b6d7dae903817067": {
          "model_module": "@jupyter-widgets/controls",
          "model_name": "FloatProgressModel",
          "model_module_version": "1.5.0",
          "state": {
            "_dom_classes": [],
            "_model_module": "@jupyter-widgets/controls",
            "_model_module_version": "1.5.0",
            "_model_name": "FloatProgressModel",
            "_view_count": null,
            "_view_module": "@jupyter-widgets/controls",
            "_view_module_version": "1.5.0",
            "_view_name": "ProgressView",
            "bar_style": "success",
            "description": "",
            "description_tooltip": null,
            "layout": "IPY_MODEL_0954d39fa20f41b9ae17a9af663d7456",
            "max": 1,
            "min": 0,
            "orientation": "horizontal",
            "style": "IPY_MODEL_2da19dfc93d241f5ace934176bcfe9c7",
            "value": 1
          }
        },
        "2a92fe1e04694c3fa9b28050353a1fc3": {
          "model_module": "@jupyter-widgets/controls",
          "model_name": "HTMLModel",
          "model_module_version": "1.5.0",
          "state": {
            "_dom_classes": [],
            "_model_module": "@jupyter-widgets/controls",
            "_model_module_version": "1.5.0",
            "_model_name": "HTMLModel",
            "_view_count": null,
            "_view_module": "@jupyter-widgets/controls",
            "_view_module_version": "1.5.0",
            "_view_name": "HTMLView",
            "description": "",
            "description_tooltip": null,
            "layout": "IPY_MODEL_6831fe3e61314f24bc937c91b2834016",
            "placeholder": "​",
            "style": "IPY_MODEL_b5282e3943e94931ad3cde862023e283",
            "value": " 3/3 [01:18&lt;00:00,  7.53s/ url]"
          }
        },
        "a44b675b91e2449db26fbf12fc38fab6": {
          "model_module": "@jupyter-widgets/base",
          "model_name": "LayoutModel",
          "model_module_version": "1.2.0",
          "state": {
            "_model_module": "@jupyter-widgets/base",
            "_model_module_version": "1.2.0",
            "_model_name": "LayoutModel",
            "_view_count": null,
            "_view_module": "@jupyter-widgets/base",
            "_view_module_version": "1.2.0",
            "_view_name": "LayoutView",
            "align_content": null,
            "align_items": null,
            "align_self": null,
            "border": null,
            "bottom": null,
            "display": null,
            "flex": null,
            "flex_flow": null,
            "grid_area": null,
            "grid_auto_columns": null,
            "grid_auto_flow": null,
            "grid_auto_rows": null,
            "grid_column": null,
            "grid_gap": null,
            "grid_row": null,
            "grid_template_areas": null,
            "grid_template_columns": null,
            "grid_template_rows": null,
            "height": null,
            "justify_content": null,
            "justify_items": null,
            "left": null,
            "margin": null,
            "max_height": null,
            "max_width": null,
            "min_height": null,
            "min_width": null,
            "object_fit": null,
            "object_position": null,
            "order": null,
            "overflow": null,
            "overflow_x": null,
            "overflow_y": null,
            "padding": null,
            "right": null,
            "top": null,
            "visibility": null,
            "width": null
          }
        },
        "af5ac1d50e7b48aab87ab5e70034bd8b": {
          "model_module": "@jupyter-widgets/base",
          "model_name": "LayoutModel",
          "model_module_version": "1.2.0",
          "state": {
            "_model_module": "@jupyter-widgets/base",
            "_model_module_version": "1.2.0",
            "_model_name": "LayoutModel",
            "_view_count": null,
            "_view_module": "@jupyter-widgets/base",
            "_view_module_version": "1.2.0",
            "_view_name": "LayoutView",
            "align_content": null,
            "align_items": null,
            "align_self": null,
            "border": null,
            "bottom": null,
            "display": null,
            "flex": null,
            "flex_flow": null,
            "grid_area": null,
            "grid_auto_columns": null,
            "grid_auto_flow": null,
            "grid_auto_rows": null,
            "grid_column": null,
            "grid_gap": null,
            "grid_row": null,
            "grid_template_areas": null,
            "grid_template_columns": null,
            "grid_template_rows": null,
            "height": null,
            "justify_content": null,
            "justify_items": null,
            "left": null,
            "margin": null,
            "max_height": null,
            "max_width": null,
            "min_height": null,
            "min_width": null,
            "object_fit": null,
            "object_position": null,
            "order": null,
            "overflow": null,
            "overflow_x": null,
            "overflow_y": null,
            "padding": null,
            "right": null,
            "top": null,
            "visibility": null,
            "width": null
          }
        },
        "ae742a32564d4ebc81d41da7680068bf": {
          "model_module": "@jupyter-widgets/controls",
          "model_name": "DescriptionStyleModel",
          "model_module_version": "1.5.0",
          "state": {
            "_model_module": "@jupyter-widgets/controls",
            "_model_module_version": "1.5.0",
            "_model_name": "DescriptionStyleModel",
            "_view_count": null,
            "_view_module": "@jupyter-widgets/base",
            "_view_module_version": "1.2.0",
            "_view_name": "StyleView",
            "description_width": ""
          }
        },
        "0954d39fa20f41b9ae17a9af663d7456": {
          "model_module": "@jupyter-widgets/base",
          "model_name": "LayoutModel",
          "model_module_version": "1.2.0",
          "state": {
            "_model_module": "@jupyter-widgets/base",
            "_model_module_version": "1.2.0",
            "_model_name": "LayoutModel",
            "_view_count": null,
            "_view_module": "@jupyter-widgets/base",
            "_view_module_version": "1.2.0",
            "_view_name": "LayoutView",
            "align_content": null,
            "align_items": null,
            "align_self": null,
            "border": null,
            "bottom": null,
            "display": null,
            "flex": null,
            "flex_flow": null,
            "grid_area": null,
            "grid_auto_columns": null,
            "grid_auto_flow": null,
            "grid_auto_rows": null,
            "grid_column": null,
            "grid_gap": null,
            "grid_row": null,
            "grid_template_areas": null,
            "grid_template_columns": null,
            "grid_template_rows": null,
            "height": null,
            "justify_content": null,
            "justify_items": null,
            "left": null,
            "margin": null,
            "max_height": null,
            "max_width": null,
            "min_height": null,
            "min_width": null,
            "object_fit": null,
            "object_position": null,
            "order": null,
            "overflow": null,
            "overflow_x": null,
            "overflow_y": null,
            "padding": null,
            "right": null,
            "top": null,
            "visibility": null,
            "width": "20px"
          }
        },
        "2da19dfc93d241f5ace934176bcfe9c7": {
          "model_module": "@jupyter-widgets/controls",
          "model_name": "ProgressStyleModel",
          "model_module_version": "1.5.0",
          "state": {
            "_model_module": "@jupyter-widgets/controls",
            "_model_module_version": "1.5.0",
            "_model_name": "ProgressStyleModel",
            "_view_count": null,
            "_view_module": "@jupyter-widgets/base",
            "_view_module_version": "1.2.0",
            "_view_name": "StyleView",
            "bar_color": null,
            "description_width": ""
          }
        },
        "6831fe3e61314f24bc937c91b2834016": {
          "model_module": "@jupyter-widgets/base",
          "model_name": "LayoutModel",
          "model_module_version": "1.2.0",
          "state": {
            "_model_module": "@jupyter-widgets/base",
            "_model_module_version": "1.2.0",
            "_model_name": "LayoutModel",
            "_view_count": null,
            "_view_module": "@jupyter-widgets/base",
            "_view_module_version": "1.2.0",
            "_view_name": "LayoutView",
            "align_content": null,
            "align_items": null,
            "align_self": null,
            "border": null,
            "bottom": null,
            "display": null,
            "flex": null,
            "flex_flow": null,
            "grid_area": null,
            "grid_auto_columns": null,
            "grid_auto_flow": null,
            "grid_auto_rows": null,
            "grid_column": null,
            "grid_gap": null,
            "grid_row": null,
            "grid_template_areas": null,
            "grid_template_columns": null,
            "grid_template_rows": null,
            "height": null,
            "justify_content": null,
            "justify_items": null,
            "left": null,
            "margin": null,
            "max_height": null,
            "max_width": null,
            "min_height": null,
            "min_width": null,
            "object_fit": null,
            "object_position": null,
            "order": null,
            "overflow": null,
            "overflow_x": null,
            "overflow_y": null,
            "padding": null,
            "right": null,
            "top": null,
            "visibility": null,
            "width": null
          }
        },
        "b5282e3943e94931ad3cde862023e283": {
          "model_module": "@jupyter-widgets/controls",
          "model_name": "DescriptionStyleModel",
          "model_module_version": "1.5.0",
          "state": {
            "_model_module": "@jupyter-widgets/controls",
            "_model_module_version": "1.5.0",
            "_model_name": "DescriptionStyleModel",
            "_view_count": null,
            "_view_module": "@jupyter-widgets/base",
            "_view_module_version": "1.2.0",
            "_view_name": "StyleView",
            "description_width": ""
          }
        },
        "a12920df292649dc87cc7fc9f2745097": {
          "model_module": "@jupyter-widgets/controls",
          "model_name": "HBoxModel",
          "model_module_version": "1.5.0",
          "state": {
            "_dom_classes": [],
            "_model_module": "@jupyter-widgets/controls",
            "_model_module_version": "1.5.0",
            "_model_name": "HBoxModel",
            "_view_count": null,
            "_view_module": "@jupyter-widgets/controls",
            "_view_module_version": "1.5.0",
            "_view_name": "HBoxView",
            "box_style": "",
            "children": [
              "IPY_MODEL_fce1cfe4be57474ba8fb70104c7dfe57",
              "IPY_MODEL_0c81a6a971714676945c9e984e3b0d1b",
              "IPY_MODEL_5780e133a8bf4590af4e347eebb4661f"
            ],
            "layout": "IPY_MODEL_f1ce4ad3ca084d038e34ff754752c91a"
          }
        },
        "fce1cfe4be57474ba8fb70104c7dfe57": {
          "model_module": "@jupyter-widgets/controls",
          "model_name": "HTMLModel",
          "model_module_version": "1.5.0",
          "state": {
            "_dom_classes": [],
            "_model_module": "@jupyter-widgets/controls",
            "_model_module_version": "1.5.0",
            "_model_name": "HTMLModel",
            "_view_count": null,
            "_view_module": "@jupyter-widgets/controls",
            "_view_module_version": "1.5.0",
            "_view_name": "HTMLView",
            "description": "",
            "description_tooltip": null,
            "layout": "IPY_MODEL_513f162dac7d4ce89b6a470583d0ef40",
            "placeholder": "​",
            "style": "IPY_MODEL_c969fb040a2d4b60a12684a2e5be6a9b",
            "value": "Dl Size...: 100%"
          }
        },
        "0c81a6a971714676945c9e984e3b0d1b": {
          "model_module": "@jupyter-widgets/controls",
          "model_name": "FloatProgressModel",
          "model_module_version": "1.5.0",
          "state": {
            "_dom_classes": [],
            "_model_module": "@jupyter-widgets/controls",
            "_model_module_version": "1.5.0",
            "_model_name": "FloatProgressModel",
            "_view_count": null,
            "_view_module": "@jupyter-widgets/controls",
            "_view_module_version": "1.5.0",
            "_view_name": "ProgressView",
            "bar_style": "success",
            "description": "",
            "description_tooltip": null,
            "layout": "IPY_MODEL_9fe2665b79a947cd9ea1689a43355711",
            "max": 1,
            "min": 0,
            "orientation": "horizontal",
            "style": "IPY_MODEL_4c1e0818b21944cb8a9448f45901dfa1",
            "value": 1
          }
        },
        "5780e133a8bf4590af4e347eebb4661f": {
          "model_module": "@jupyter-widgets/controls",
          "model_name": "HTMLModel",
          "model_module_version": "1.5.0",
          "state": {
            "_dom_classes": [],
            "_model_module": "@jupyter-widgets/controls",
            "_model_module_version": "1.5.0",
            "_model_name": "HTMLModel",
            "_view_count": null,
            "_view_module": "@jupyter-widgets/controls",
            "_view_module_version": "1.5.0",
            "_view_name": "HTMLView",
            "description": "",
            "description_tooltip": null,
            "layout": "IPY_MODEL_9853f96e68194dbb9cda93e991e763aa",
            "placeholder": "​",
            "style": "IPY_MODEL_b8f7b1856e8c48a38ec19e3b4c264cf1",
            "value": " 328/328 [01:18&lt;00:00, 20.13 MiB/s]"
          }
        },
        "f1ce4ad3ca084d038e34ff754752c91a": {
          "model_module": "@jupyter-widgets/base",
          "model_name": "LayoutModel",
          "model_module_version": "1.2.0",
          "state": {
            "_model_module": "@jupyter-widgets/base",
            "_model_module_version": "1.2.0",
            "_model_name": "LayoutModel",
            "_view_count": null,
            "_view_module": "@jupyter-widgets/base",
            "_view_module_version": "1.2.0",
            "_view_name": "LayoutView",
            "align_content": null,
            "align_items": null,
            "align_self": null,
            "border": null,
            "bottom": null,
            "display": null,
            "flex": null,
            "flex_flow": null,
            "grid_area": null,
            "grid_auto_columns": null,
            "grid_auto_flow": null,
            "grid_auto_rows": null,
            "grid_column": null,
            "grid_gap": null,
            "grid_row": null,
            "grid_template_areas": null,
            "grid_template_columns": null,
            "grid_template_rows": null,
            "height": null,
            "justify_content": null,
            "justify_items": null,
            "left": null,
            "margin": null,
            "max_height": null,
            "max_width": null,
            "min_height": null,
            "min_width": null,
            "object_fit": null,
            "object_position": null,
            "order": null,
            "overflow": null,
            "overflow_x": null,
            "overflow_y": null,
            "padding": null,
            "right": null,
            "top": null,
            "visibility": null,
            "width": null
          }
        },
        "513f162dac7d4ce89b6a470583d0ef40": {
          "model_module": "@jupyter-widgets/base",
          "model_name": "LayoutModel",
          "model_module_version": "1.2.0",
          "state": {
            "_model_module": "@jupyter-widgets/base",
            "_model_module_version": "1.2.0",
            "_model_name": "LayoutModel",
            "_view_count": null,
            "_view_module": "@jupyter-widgets/base",
            "_view_module_version": "1.2.0",
            "_view_name": "LayoutView",
            "align_content": null,
            "align_items": null,
            "align_self": null,
            "border": null,
            "bottom": null,
            "display": null,
            "flex": null,
            "flex_flow": null,
            "grid_area": null,
            "grid_auto_columns": null,
            "grid_auto_flow": null,
            "grid_auto_rows": null,
            "grid_column": null,
            "grid_gap": null,
            "grid_row": null,
            "grid_template_areas": null,
            "grid_template_columns": null,
            "grid_template_rows": null,
            "height": null,
            "justify_content": null,
            "justify_items": null,
            "left": null,
            "margin": null,
            "max_height": null,
            "max_width": null,
            "min_height": null,
            "min_width": null,
            "object_fit": null,
            "object_position": null,
            "order": null,
            "overflow": null,
            "overflow_x": null,
            "overflow_y": null,
            "padding": null,
            "right": null,
            "top": null,
            "visibility": null,
            "width": null
          }
        },
        "c969fb040a2d4b60a12684a2e5be6a9b": {
          "model_module": "@jupyter-widgets/controls",
          "model_name": "DescriptionStyleModel",
          "model_module_version": "1.5.0",
          "state": {
            "_model_module": "@jupyter-widgets/controls",
            "_model_module_version": "1.5.0",
            "_model_name": "DescriptionStyleModel",
            "_view_count": null,
            "_view_module": "@jupyter-widgets/base",
            "_view_module_version": "1.2.0",
            "_view_name": "StyleView",
            "description_width": ""
          }
        },
        "9fe2665b79a947cd9ea1689a43355711": {
          "model_module": "@jupyter-widgets/base",
          "model_name": "LayoutModel",
          "model_module_version": "1.2.0",
          "state": {
            "_model_module": "@jupyter-widgets/base",
            "_model_module_version": "1.2.0",
            "_model_name": "LayoutModel",
            "_view_count": null,
            "_view_module": "@jupyter-widgets/base",
            "_view_module_version": "1.2.0",
            "_view_name": "LayoutView",
            "align_content": null,
            "align_items": null,
            "align_self": null,
            "border": null,
            "bottom": null,
            "display": null,
            "flex": null,
            "flex_flow": null,
            "grid_area": null,
            "grid_auto_columns": null,
            "grid_auto_flow": null,
            "grid_auto_rows": null,
            "grid_column": null,
            "grid_gap": null,
            "grid_row": null,
            "grid_template_areas": null,
            "grid_template_columns": null,
            "grid_template_rows": null,
            "height": null,
            "justify_content": null,
            "justify_items": null,
            "left": null,
            "margin": null,
            "max_height": null,
            "max_width": null,
            "min_height": null,
            "min_width": null,
            "object_fit": null,
            "object_position": null,
            "order": null,
            "overflow": null,
            "overflow_x": null,
            "overflow_y": null,
            "padding": null,
            "right": null,
            "top": null,
            "visibility": null,
            "width": "20px"
          }
        },
        "4c1e0818b21944cb8a9448f45901dfa1": {
          "model_module": "@jupyter-widgets/controls",
          "model_name": "ProgressStyleModel",
          "model_module_version": "1.5.0",
          "state": {
            "_model_module": "@jupyter-widgets/controls",
            "_model_module_version": "1.5.0",
            "_model_name": "ProgressStyleModel",
            "_view_count": null,
            "_view_module": "@jupyter-widgets/base",
            "_view_module_version": "1.2.0",
            "_view_name": "StyleView",
            "bar_color": null,
            "description_width": ""
          }
        },
        "9853f96e68194dbb9cda93e991e763aa": {
          "model_module": "@jupyter-widgets/base",
          "model_name": "LayoutModel",
          "model_module_version": "1.2.0",
          "state": {
            "_model_module": "@jupyter-widgets/base",
            "_model_module_version": "1.2.0",
            "_model_name": "LayoutModel",
            "_view_count": null,
            "_view_module": "@jupyter-widgets/base",
            "_view_module_version": "1.2.0",
            "_view_name": "LayoutView",
            "align_content": null,
            "align_items": null,
            "align_self": null,
            "border": null,
            "bottom": null,
            "display": null,
            "flex": null,
            "flex_flow": null,
            "grid_area": null,
            "grid_auto_columns": null,
            "grid_auto_flow": null,
            "grid_auto_rows": null,
            "grid_column": null,
            "grid_gap": null,
            "grid_row": null,
            "grid_template_areas": null,
            "grid_template_columns": null,
            "grid_template_rows": null,
            "height": null,
            "justify_content": null,
            "justify_items": null,
            "left": null,
            "margin": null,
            "max_height": null,
            "max_width": null,
            "min_height": null,
            "min_width": null,
            "object_fit": null,
            "object_position": null,
            "order": null,
            "overflow": null,
            "overflow_x": null,
            "overflow_y": null,
            "padding": null,
            "right": null,
            "top": null,
            "visibility": null,
            "width": null
          }
        },
        "b8f7b1856e8c48a38ec19e3b4c264cf1": {
          "model_module": "@jupyter-widgets/controls",
          "model_name": "DescriptionStyleModel",
          "model_module_version": "1.5.0",
          "state": {
            "_model_module": "@jupyter-widgets/controls",
            "_model_module_version": "1.5.0",
            "_model_name": "DescriptionStyleModel",
            "_view_count": null,
            "_view_module": "@jupyter-widgets/base",
            "_view_module_version": "1.2.0",
            "_view_name": "StyleView",
            "description_width": ""
          }
        },
        "5715a179afaf4294a5fd626506c3c6f1": {
          "model_module": "@jupyter-widgets/controls",
          "model_name": "HBoxModel",
          "model_module_version": "1.5.0",
          "state": {
            "_dom_classes": [],
            "_model_module": "@jupyter-widgets/controls",
            "_model_module_version": "1.5.0",
            "_model_name": "HBoxModel",
            "_view_count": null,
            "_view_module": "@jupyter-widgets/controls",
            "_view_module_version": "1.5.0",
            "_view_name": "HBoxView",
            "box_style": "",
            "children": [
              "IPY_MODEL_2a1ab29ef9034c35a2bb6a47c0f6c39c",
              "IPY_MODEL_6582c1c6f27f400f9d56c259a9267dd2",
              "IPY_MODEL_51738df98f3a41c1af4a7fd04dd14f47"
            ],
            "layout": "IPY_MODEL_4f328beb1a5d4f3d92c26273032dc6fb"
          }
        },
        "2a1ab29ef9034c35a2bb6a47c0f6c39c": {
          "model_module": "@jupyter-widgets/controls",
          "model_name": "HTMLModel",
          "model_module_version": "1.5.0",
          "state": {
            "_dom_classes": [],
            "_model_module": "@jupyter-widgets/controls",
            "_model_module_version": "1.5.0",
            "_model_name": "HTMLModel",
            "_view_count": null,
            "_view_module": "@jupyter-widgets/controls",
            "_view_module_version": "1.5.0",
            "_view_name": "HTMLView",
            "description": "",
            "description_tooltip": null,
            "layout": "IPY_MODEL_d26bc57266fe4f00a934b753a5cc3f25",
            "placeholder": "​",
            "style": "IPY_MODEL_7d52c5a67c164ffca5eecb173b79fe1f",
            "value": "Extraction completed...: 100%"
          }
        },
        "6582c1c6f27f400f9d56c259a9267dd2": {
          "model_module": "@jupyter-widgets/controls",
          "model_name": "FloatProgressModel",
          "model_module_version": "1.5.0",
          "state": {
            "_dom_classes": [],
            "_model_module": "@jupyter-widgets/controls",
            "_model_module_version": "1.5.0",
            "_model_name": "FloatProgressModel",
            "_view_count": null,
            "_view_module": "@jupyter-widgets/controls",
            "_view_module_version": "1.5.0",
            "_view_name": "ProgressView",
            "bar_style": "success",
            "description": "",
            "description_tooltip": null,
            "layout": "IPY_MODEL_550a1338aa934c11877ddd7d161cd8ed",
            "max": 1,
            "min": 0,
            "orientation": "horizontal",
            "style": "IPY_MODEL_e6dce23af0f4453192a5c137762ba1b5",
            "value": 0
          }
        },
        "51738df98f3a41c1af4a7fd04dd14f47": {
          "model_module": "@jupyter-widgets/controls",
          "model_name": "HTMLModel",
          "model_module_version": "1.5.0",
          "state": {
            "_dom_classes": [],
            "_model_module": "@jupyter-widgets/controls",
            "_model_module_version": "1.5.0",
            "_model_name": "HTMLModel",
            "_view_count": null,
            "_view_module": "@jupyter-widgets/controls",
            "_view_module_version": "1.5.0",
            "_view_name": "HTMLView",
            "description": "",
            "description_tooltip": null,
            "layout": "IPY_MODEL_eb879e079e614916bad436a4a2f4f63c",
            "placeholder": "​",
            "style": "IPY_MODEL_fe098d2a78ae430f88fb40d55b5fb010",
            "value": " 8189/8189 [01:18&lt;00:00, 403.31 file/s]"
          }
        },
        "4f328beb1a5d4f3d92c26273032dc6fb": {
          "model_module": "@jupyter-widgets/base",
          "model_name": "LayoutModel",
          "model_module_version": "1.2.0",
          "state": {
            "_model_module": "@jupyter-widgets/base",
            "_model_module_version": "1.2.0",
            "_model_name": "LayoutModel",
            "_view_count": null,
            "_view_module": "@jupyter-widgets/base",
            "_view_module_version": "1.2.0",
            "_view_name": "LayoutView",
            "align_content": null,
            "align_items": null,
            "align_self": null,
            "border": null,
            "bottom": null,
            "display": null,
            "flex": null,
            "flex_flow": null,
            "grid_area": null,
            "grid_auto_columns": null,
            "grid_auto_flow": null,
            "grid_auto_rows": null,
            "grid_column": null,
            "grid_gap": null,
            "grid_row": null,
            "grid_template_areas": null,
            "grid_template_columns": null,
            "grid_template_rows": null,
            "height": null,
            "justify_content": null,
            "justify_items": null,
            "left": null,
            "margin": null,
            "max_height": null,
            "max_width": null,
            "min_height": null,
            "min_width": null,
            "object_fit": null,
            "object_position": null,
            "order": null,
            "overflow": null,
            "overflow_x": null,
            "overflow_y": null,
            "padding": null,
            "right": null,
            "top": null,
            "visibility": null,
            "width": null
          }
        },
        "d26bc57266fe4f00a934b753a5cc3f25": {
          "model_module": "@jupyter-widgets/base",
          "model_name": "LayoutModel",
          "model_module_version": "1.2.0",
          "state": {
            "_model_module": "@jupyter-widgets/base",
            "_model_module_version": "1.2.0",
            "_model_name": "LayoutModel",
            "_view_count": null,
            "_view_module": "@jupyter-widgets/base",
            "_view_module_version": "1.2.0",
            "_view_name": "LayoutView",
            "align_content": null,
            "align_items": null,
            "align_self": null,
            "border": null,
            "bottom": null,
            "display": null,
            "flex": null,
            "flex_flow": null,
            "grid_area": null,
            "grid_auto_columns": null,
            "grid_auto_flow": null,
            "grid_auto_rows": null,
            "grid_column": null,
            "grid_gap": null,
            "grid_row": null,
            "grid_template_areas": null,
            "grid_template_columns": null,
            "grid_template_rows": null,
            "height": null,
            "justify_content": null,
            "justify_items": null,
            "left": null,
            "margin": null,
            "max_height": null,
            "max_width": null,
            "min_height": null,
            "min_width": null,
            "object_fit": null,
            "object_position": null,
            "order": null,
            "overflow": null,
            "overflow_x": null,
            "overflow_y": null,
            "padding": null,
            "right": null,
            "top": null,
            "visibility": null,
            "width": null
          }
        },
        "7d52c5a67c164ffca5eecb173b79fe1f": {
          "model_module": "@jupyter-widgets/controls",
          "model_name": "DescriptionStyleModel",
          "model_module_version": "1.5.0",
          "state": {
            "_model_module": "@jupyter-widgets/controls",
            "_model_module_version": "1.5.0",
            "_model_name": "DescriptionStyleModel",
            "_view_count": null,
            "_view_module": "@jupyter-widgets/base",
            "_view_module_version": "1.2.0",
            "_view_name": "StyleView",
            "description_width": ""
          }
        },
        "550a1338aa934c11877ddd7d161cd8ed": {
          "model_module": "@jupyter-widgets/base",
          "model_name": "LayoutModel",
          "model_module_version": "1.2.0",
          "state": {
            "_model_module": "@jupyter-widgets/base",
            "_model_module_version": "1.2.0",
            "_model_name": "LayoutModel",
            "_view_count": null,
            "_view_module": "@jupyter-widgets/base",
            "_view_module_version": "1.2.0",
            "_view_name": "LayoutView",
            "align_content": null,
            "align_items": null,
            "align_self": null,
            "border": null,
            "bottom": null,
            "display": null,
            "flex": null,
            "flex_flow": null,
            "grid_area": null,
            "grid_auto_columns": null,
            "grid_auto_flow": null,
            "grid_auto_rows": null,
            "grid_column": null,
            "grid_gap": null,
            "grid_row": null,
            "grid_template_areas": null,
            "grid_template_columns": null,
            "grid_template_rows": null,
            "height": null,
            "justify_content": null,
            "justify_items": null,
            "left": null,
            "margin": null,
            "max_height": null,
            "max_width": null,
            "min_height": null,
            "min_width": null,
            "object_fit": null,
            "object_position": null,
            "order": null,
            "overflow": null,
            "overflow_x": null,
            "overflow_y": null,
            "padding": null,
            "right": null,
            "top": null,
            "visibility": null,
            "width": "20px"
          }
        },
        "e6dce23af0f4453192a5c137762ba1b5": {
          "model_module": "@jupyter-widgets/controls",
          "model_name": "ProgressStyleModel",
          "model_module_version": "1.5.0",
          "state": {
            "_model_module": "@jupyter-widgets/controls",
            "_model_module_version": "1.5.0",
            "_model_name": "ProgressStyleModel",
            "_view_count": null,
            "_view_module": "@jupyter-widgets/base",
            "_view_module_version": "1.2.0",
            "_view_name": "StyleView",
            "bar_color": null,
            "description_width": ""
          }
        },
        "eb879e079e614916bad436a4a2f4f63c": {
          "model_module": "@jupyter-widgets/base",
          "model_name": "LayoutModel",
          "model_module_version": "1.2.0",
          "state": {
            "_model_module": "@jupyter-widgets/base",
            "_model_module_version": "1.2.0",
            "_model_name": "LayoutModel",
            "_view_count": null,
            "_view_module": "@jupyter-widgets/base",
            "_view_module_version": "1.2.0",
            "_view_name": "LayoutView",
            "align_content": null,
            "align_items": null,
            "align_self": null,
            "border": null,
            "bottom": null,
            "display": null,
            "flex": null,
            "flex_flow": null,
            "grid_area": null,
            "grid_auto_columns": null,
            "grid_auto_flow": null,
            "grid_auto_rows": null,
            "grid_column": null,
            "grid_gap": null,
            "grid_row": null,
            "grid_template_areas": null,
            "grid_template_columns": null,
            "grid_template_rows": null,
            "height": null,
            "justify_content": null,
            "justify_items": null,
            "left": null,
            "margin": null,
            "max_height": null,
            "max_width": null,
            "min_height": null,
            "min_width": null,
            "object_fit": null,
            "object_position": null,
            "order": null,
            "overflow": null,
            "overflow_x": null,
            "overflow_y": null,
            "padding": null,
            "right": null,
            "top": null,
            "visibility": null,
            "width": null
          }
        },
        "fe098d2a78ae430f88fb40d55b5fb010": {
          "model_module": "@jupyter-widgets/controls",
          "model_name": "DescriptionStyleModel",
          "model_module_version": "1.5.0",
          "state": {
            "_model_module": "@jupyter-widgets/controls",
            "_model_module_version": "1.5.0",
            "_model_name": "DescriptionStyleModel",
            "_view_count": null,
            "_view_module": "@jupyter-widgets/base",
            "_view_module_version": "1.2.0",
            "_view_name": "StyleView",
            "description_width": ""
          }
        }
      }
    }
  },
  "cells": [
    {
      "cell_type": "markdown",
      "metadata": {
        "id": "view-in-github",
        "colab_type": "text"
      },
      "source": [
        "<a href=\"https://colab.research.google.com/github/Epsoto7/Proyecto_flores/blob/main/Modelo_proyecto_flores_pynb.ipynb\" target=\"_parent\"><img src=\"https://colab.research.google.com/assets/colab-badge.svg\" alt=\"Open In Colab\"/></a>"
      ]
    },
    {
      "cell_type": "code",
      "execution_count": null,
      "metadata": {
        "id": "AfIudD1NF6HL"
      },
      "outputs": [],
      "source": [
        "import itertools\n",
        "import os\n",
        "\n",
        "import matplotlib.pylab as plt\n",
        "import numpy as np\n",
        "\n",
        "import tensorflow as tf\n",
        "import tensorflow_hub as hub"
      ]
    },
    {
      "cell_type": "code",
      "source": [
        "# Modulo pre-entrenado para entrenar (aquí las imagenes se segmentan)\n",
        "module_selection = (\"mobilenet_v2_100_224\", 224)\n",
        "handle_base, pixels = module_selection\n",
        "MODULE_HANDLE =\"https://tfhub.dev/google/imagenet/{}/feature_vector/4\".format(handle_base)\n",
        "IMAGE_SIZE = (pixels, pixels)\n",
        "print(\"Usando {} con tamaño de imagen {}\".format(MODULE_HANDLE, IMAGE_SIZE))\n",
        "\n",
        "BATCH_SIZE = 16"
      ],
      "metadata": {
        "colab": {
          "base_uri": "https://localhost:8080/"
        },
        "id": "cv9Be6m_HRNV",
        "outputId": "36f66de6-9ad2-402c-e447-37982471de45"
      },
      "execution_count": null,
      "outputs": [
        {
          "output_type": "stream",
          "name": "stdout",
          "text": [
            "Usando https://tfhub.dev/google/imagenet/mobilenet_v2_100_224/feature_vector/4 con tamaño de imagen (224, 224)\n"
          ]
        }
      ]
    },
    {
      "cell_type": "code",
      "source": [
        "# El dataset viene por defvalidault con las divisiones de train,valid, test\n",
        "# Se cargan los conjuntos en formato en \"bruto\"\n",
        "import tensorflow_datasets as tfds\n",
        "(train_ds, validation_ds, test_ds), metadata = tfds.load(\n",
        "    name=\"oxford_flowers102\",\n",
        "    split=['train', 'validation', 'test'],\n",
        "    with_info=True,\n",
        "    as_supervised=True,\n",
        "    batch_size=32\n",
        ")"
      ],
      "metadata": {
        "id": "UgQpcYzHHWgU",
        "colab": {
          "base_uri": "https://localhost:8080/",
          "height": 150,
          "referenced_widgets": [
            "1f5e4b23f5194606bd6c05b8ba1bdb9d",
            "12771bd4039d4afaa143a1c41830e724",
            "cedcca294f8e4401b6d7dae903817067",
            "2a92fe1e04694c3fa9b28050353a1fc3",
            "a44b675b91e2449db26fbf12fc38fab6",
            "af5ac1d50e7b48aab87ab5e70034bd8b",
            "ae742a32564d4ebc81d41da7680068bf",
            "0954d39fa20f41b9ae17a9af663d7456",
            "2da19dfc93d241f5ace934176bcfe9c7",
            "6831fe3e61314f24bc937c91b2834016",
            "b5282e3943e94931ad3cde862023e283",
            "a12920df292649dc87cc7fc9f2745097",
            "fce1cfe4be57474ba8fb70104c7dfe57",
            "0c81a6a971714676945c9e984e3b0d1b",
            "5780e133a8bf4590af4e347eebb4661f",
            "f1ce4ad3ca084d038e34ff754752c91a",
            "513f162dac7d4ce89b6a470583d0ef40",
            "c969fb040a2d4b60a12684a2e5be6a9b",
            "9fe2665b79a947cd9ea1689a43355711",
            "4c1e0818b21944cb8a9448f45901dfa1",
            "9853f96e68194dbb9cda93e991e763aa",
            "b8f7b1856e8c48a38ec19e3b4c264cf1",
            "5715a179afaf4294a5fd626506c3c6f1",
            "2a1ab29ef9034c35a2bb6a47c0f6c39c",
            "6582c1c6f27f400f9d56c259a9267dd2",
            "51738df98f3a41c1af4a7fd04dd14f47",
            "4f328beb1a5d4f3d92c26273032dc6fb",
            "d26bc57266fe4f00a934b753a5cc3f25",
            "7d52c5a67c164ffca5eecb173b79fe1f",
            "550a1338aa934c11877ddd7d161cd8ed",
            "e6dce23af0f4453192a5c137762ba1b5",
            "eb879e079e614916bad436a4a2f4f63c",
            "fe098d2a78ae430f88fb40d55b5fb010"
          ]
        },
        "outputId": "838db28f-d0b7-4d22-a20b-11906a1b86e3"
      },
      "execution_count": null,
      "outputs": [
        {
          "output_type": "stream",
          "name": "stdout",
          "text": [
            "Downloading and preparing dataset 328.90 MiB (download: 328.90 MiB, generated: 331.34 MiB, total: 660.25 MiB) to /root/tensorflow_datasets/oxford_flowers102/2.1.1...\n"
          ]
        },
        {
          "output_type": "display_data",
          "data": {
            "text/plain": [
              "Dl Completed...: 0 url [00:00, ? url/s]"
            ],
            "application/vnd.jupyter.widget-view+json": {
              "version_major": 2,
              "version_minor": 0,
              "model_id": "1f5e4b23f5194606bd6c05b8ba1bdb9d"
            }
          },
          "metadata": {}
        },
        {
          "output_type": "display_data",
          "data": {
            "text/plain": [
              "Dl Size...: 0 MiB [00:00, ? MiB/s]"
            ],
            "application/vnd.jupyter.widget-view+json": {
              "version_major": 2,
              "version_minor": 0,
              "model_id": "a12920df292649dc87cc7fc9f2745097"
            }
          },
          "metadata": {}
        },
        {
          "output_type": "display_data",
          "data": {
            "text/plain": [
              "Extraction completed...: 0 file [00:00, ? file/s]"
            ],
            "application/vnd.jupyter.widget-view+json": {
              "version_major": 2,
              "version_minor": 0,
              "model_id": "5715a179afaf4294a5fd626506c3c6f1"
            }
          },
          "metadata": {}
        }
      ]
    },
    {
      "cell_type": "code",
      "source": [
        "# Se obtienen algunos datos que pueden ser de interés\n",
        "print(metadata)"
      ],
      "metadata": {
        "colab": {
          "base_uri": "https://localhost:8080/"
        },
        "id": "CzOD9X3xLgBh",
        "outputId": "5c10b9fd-d3d5-425e-9477-12cc194492b7"
      },
      "execution_count": null,
      "outputs": [
        {
          "output_type": "stream",
          "name": "stdout",
          "text": [
            "tfds.core.DatasetInfo(\n",
            "    name='oxford_flowers102',\n",
            "    full_name='oxford_flowers102/2.1.1',\n",
            "    description=\"\"\"\n",
            "    The Oxford Flowers 102 dataset is a consistent of 102 flower categories commonly\n",
            "    occurring in the United Kingdom. Each class consists of between 40 and 258\n",
            "    images. The images have large scale, pose and light variations. In addition,\n",
            "    there are categories that have large variations within the category and several\n",
            "    very similar categories.\n",
            "    \n",
            "    The dataset is divided into a training set, a validation set and a test set. The\n",
            "    training set and validation set each consist of 10 images per class (totalling\n",
            "    1020 images each). The test set consists of the remaining 6149 images (minimum\n",
            "    20 per class).\n",
            "    \n",
            "    Note: The dataset by default comes with a test size larger than the train size.\n",
            "    For more info see this\n",
            "    [issue](https://github.com/tensorflow/datasets/issues/3022).\n",
            "    \"\"\",\n",
            "    homepage='https://www.robots.ox.ac.uk/~vgg/data/flowers/102/',\n",
            "    data_dir=PosixGPath('/tmp/tmprtyxo1bmtfds'),\n",
            "    file_format=tfrecord,\n",
            "    download_size=328.90 MiB,\n",
            "    dataset_size=331.34 MiB,\n",
            "    features=FeaturesDict({\n",
            "        'file_name': Text(shape=(), dtype=string),\n",
            "        'image': Image(shape=(None, None, 3), dtype=uint8),\n",
            "        'label': ClassLabel(shape=(), dtype=int64, num_classes=102),\n",
            "    }),\n",
            "    supervised_keys=('image', 'label'),\n",
            "    disable_shuffling=False,\n",
            "    splits={\n",
            "        'test': <SplitInfo num_examples=6149, num_shards=2>,\n",
            "        'train': <SplitInfo num_examples=1020, num_shards=1>,\n",
            "        'validation': <SplitInfo num_examples=1020, num_shards=1>,\n",
            "    },\n",
            "    citation=\"\"\"@InProceedings{Nilsback08,\n",
            "       author = \"Nilsback, M-E. and Zisserman, A.\",\n",
            "       title = \"Automated Flower Classification over a Large Number of Classes\",\n",
            "       booktitle = \"Proceedings of the Indian Conference on Computer Vision, Graphics and Image Processing\",\n",
            "       year = \"2008\",\n",
            "       month = \"Dec\"\n",
            "    }\"\"\",\n",
            ")\n"
          ]
        }
      ]
    },
    {
      "cell_type": "code",
      "source": [
        "print(metadata.features[\"label\"]) #Numero de clases\n",
        "tf.compat.v1.data.get_output_shapes(train_ds)[1] # proporciona la forma de las etiquetas en el conjunto de datos de entrenamiento."
      ],
      "metadata": {
        "colab": {
          "base_uri": "https://localhost:8080/"
        },
        "id": "1T-lkNS5MfyJ",
        "outputId": "7166f5a2-fad8-4b9b-f272-1ce46c6ed6d1"
      },
      "execution_count": null,
      "outputs": [
        {
          "output_type": "stream",
          "name": "stdout",
          "text": [
            "ClassLabel(shape=(), dtype=int64, num_classes=102)\n"
          ]
        },
        {
          "output_type": "execute_result",
          "data": {
            "text/plain": [
              "TensorShape([None])"
            ]
          },
          "metadata": {},
          "execution_count": 9
        }
      ]
    },
    {
      "cell_type": "code",
      "source": [
        "print(train_ds)\n",
        "print(validation_ds)\n",
        "print(test_ds)\n",
        "validation_ds.element_spec"
      ],
      "metadata": {
        "colab": {
          "base_uri": "https://localhost:8080/"
        },
        "id": "8IW1xXoqNEbU",
        "outputId": "68c865d3-25ba-4c5e-dcee-3063b4f8c705"
      },
      "execution_count": null,
      "outputs": [
        {
          "output_type": "stream",
          "name": "stdout",
          "text": [
            "<_PrefetchDataset element_spec=(TensorSpec(shape=(None, None, None, 3), dtype=tf.uint8, name=None), TensorSpec(shape=(None,), dtype=tf.int64, name=None))>\n",
            "<_PrefetchDataset element_spec=(TensorSpec(shape=(None, None, None, 3), dtype=tf.uint8, name=None), TensorSpec(shape=(None,), dtype=tf.int64, name=None))>\n",
            "<_PrefetchDataset element_spec=(TensorSpec(shape=(None, None, None, 3), dtype=tf.uint8, name=None), TensorSpec(shape=(None,), dtype=tf.int64, name=None))>\n"
          ]
        },
        {
          "output_type": "execute_result",
          "data": {
            "text/plain": [
              "(TensorSpec(shape=(None, None, None, 3), dtype=tf.uint8, name=None),\n",
              " TensorSpec(shape=(None,), dtype=tf.int64, name=None))"
            ]
          },
          "metadata": {},
          "execution_count": 11
        }
      ]
    },
    {
      "cell_type": "code",
      "source": [
        "#preprocesar\n",
        "#Funcion para normalizar las imágenes [-1,1]\n",
        "IMAG_SIZE = 224 # imagenes 224x224\n",
        "def normalize_img(image, label):\n",
        "  \"\"\"`uint8` -> `float32`.\"\"\"\n",
        "  image = tf.cast(image, tf.float32)\n",
        "  image = (image/127.5) - 1\n",
        "  image = tf.image.resize(image, (IMAG_SIZE, IMAG_SIZE))\n",
        "  return  image, label"
      ],
      "metadata": {
        "id": "zpuugMUbNNjW"
      },
      "execution_count": null,
      "outputs": []
    },
    {
      "cell_type": "code",
      "source": [
        "#aplicar la funcion anterior a cada dataset\n",
        "train = train_ds.map(normalize_img)\n",
        "validation = validation_ds.map(normalize_img)\n",
        "test = test_ds.map(normalize_img)"
      ],
      "metadata": {
        "id": "b1G-EBC1Nbjp"
      },
      "execution_count": null,
      "outputs": []
    },
    {
      "cell_type": "code",
      "source": [
        "metadata.splits[\"train\"].num_examples #proporciona información sobre el número de ejemplos en el conjunto de datos de entrenamiento"
      ],
      "metadata": {
        "colab": {
          "base_uri": "https://localhost:8080/"
        },
        "id": "FUYwJys-NgMG",
        "outputId": "fe7216bd-cacc-4239-b6fb-8df4b5aa725b"
      },
      "execution_count": null,
      "outputs": [
        {
          "output_type": "execute_result",
          "data": {
            "text/plain": [
              "1020"
            ]
          },
          "metadata": {},
          "execution_count": 14
        }
      ]
    },
    {
      "cell_type": "markdown",
      "source": [
        "# **Definir el modelo y entrenar**"
      ],
      "metadata": {
        "id": "YqdQ7L56N9Z9"
      }
    },
    {
      "cell_type": "code",
      "source": [
        "# Esta aumentacion de datos en el modelo no fué significativa, redujo el accurracy en un 2%, quizás aumentando las epocas aumente el % pero se tiene recurso limitado en colab\n",
        "from tensorflow.keras.models import Sequential\n",
        "from tensorflow.keras import layers\n",
        "\n",
        "data_augmentation = Sequential([\n",
        "    layers.RandomFlip(\"horizontal\", input_shape = (IMAG_SIZE,IMAG_SIZE,3)),\n",
        "    layers.RandomRotation(0.1),\n",
        "    layers.RandomZoom(0.1)\n",
        "])"
      ],
      "metadata": {
        "id": "17o-LLVJPzPi"
      },
      "execution_count": null,
      "outputs": []
    },
    {
      "cell_type": "code",
      "source": [
        "'''construir el modelo con MODULE_HANDLE establecido\n",
        "tf.keras.Sequential: Este es un modelo secuencial en Keras que permite apilar capas en secuencia,\n",
        "desde la entrada hasta la salida, hub.KerasLayer: Esta es una capa de TensorFlow Hub que permite integrar modelos preentrenados.\n",
        "MODULE_HANDLE: Es la cadena que representa la URL o ruta al modelo preentrenado en TensorFlow Hub.'''\n",
        "model = tf.keras.Sequential([\n",
        "    hub.KerasLayer(MODULE_HANDLE, trainable=True),\n",
        "    tf.keras.layers.Dropout(rate=0.3),\n",
        "    tf.keras.layers.Dense(units=metadata.features[\"label\"].num_classes)\n",
        "]) #dentro de este modelo se puede aplicar data_augmentation\n",
        "model.build((None,)+IMAGE_SIZE+(3,))\n",
        "model.summary()"
      ],
      "metadata": {
        "colab": {
          "base_uri": "https://localhost:8080/"
        },
        "id": "QEDdMua8N49u",
        "outputId": "5f101928-713f-4faa-99f7-cbb49191db92"
      },
      "execution_count": null,
      "outputs": [
        {
          "output_type": "stream",
          "name": "stdout",
          "text": [
            "Model: \"sequential\"\n",
            "_________________________________________________________________\n",
            " Layer (type)                Output Shape              Param #   \n",
            "=================================================================\n",
            " keras_layer (KerasLayer)    (None, 1280)              2257984   \n",
            "                                                                 \n",
            " dropout (Dropout)           (None, 1280)              0         \n",
            "                                                                 \n",
            " dense (Dense)               (None, 102)               130662    \n",
            "                                                                 \n",
            "=================================================================\n",
            "Total params: 2388646 (9.11 MB)\n",
            "Trainable params: 2354534 (8.98 MB)\n",
            "Non-trainable params: 34112 (133.25 KB)\n",
            "_________________________________________________________________\n",
            "keras_layer\n",
            "dropout\n",
            "dense\n"
          ]
        }
      ]
    },
    {
      "cell_type": "code",
      "source": [
        "'''\n",
        "Aquí compilamos el modelo definido y lo entrenamos de acuerdo con el conjunto de datos precargado.\n",
        "La optimización de Adam utilizada aquí es un método de descenso de gradiente estocástico que se basa en la estimación\n",
        "adaptativa de momentos de primer y segundo orden\n",
        "'''\n",
        "model.compile(\n",
        "  optimizer=tf.keras.optimizers.Adam(learning_rate=.5e-3),\n",
        "  loss=tf.keras.losses.SparseCategoricalCrossentropy(from_logits=True),\n",
        "  metrics=['accuracy'])"
      ],
      "metadata": {
        "id": "PzyT1LcQPTEL"
      },
      "execution_count": null,
      "outputs": []
    },
    {
      "cell_type": "code",
      "source": [
        "# Unbatch datasets to avoid batch mismatch\n",
        "train = train.unbatch().batch(BATCH_SIZE,drop_remainder=True).repeat().shuffle(512)\n",
        "validation = validation.unbatch().batch(BATCH_SIZE,drop_remainder=True).repeat()\n"
      ],
      "metadata": {
        "id": "Lee5AiRxPmAV"
      },
      "execution_count": null,
      "outputs": []
    },
    {
      "cell_type": "code",
      "source": [
        "steps_per_epoch = metadata.splits[\"train\"].num_examples / BATCH_SIZE\n",
        "validation_steps = metadata.splits[\"validation\"].num_examples / BATCH_SIZE\n",
        "EPOCHS = 20\n",
        "hist = model.fit(\n",
        "    x=train,\n",
        "    epochs=EPOCHS, steps_per_epoch=steps_per_epoch,\n",
        "    validation_data=validation,\n",
        "    validation_steps=validation_steps,\n",
        "    verbose=2).history"
      ],
      "metadata": {
        "colab": {
          "base_uri": "https://localhost:8080/"
        },
        "id": "n4BT_h65Pseg",
        "outputId": "724ebf6c-7969-4991-add7-b7461ecc0de5"
      },
      "execution_count": null,
      "outputs": [
        {
          "output_type": "stream",
          "name": "stdout",
          "text": [
            "Epoch 1/20\n",
            "63/63 - 368s - loss: 3.3867 - accuracy: 0.3594 - val_loss: 2.9816 - val_accuracy: 0.3105 - 368s/epoch - 6s/step\n",
            "Epoch 2/20\n",
            "63/63 - 273s - loss: 1.0575 - accuracy: 0.8076 - val_loss: 1.5201 - val_accuracy: 0.6338 - 273s/epoch - 4s/step\n",
            "Epoch 3/20\n",
            "63/63 - 303s - loss: 0.4184 - accuracy: 0.9307 - val_loss: 1.2292 - val_accuracy: 0.7012 - 303s/epoch - 5s/step\n",
            "Epoch 4/20\n",
            "63/63 - 237s - loss: 0.1892 - accuracy: 0.9854 - val_loss: 0.9837 - val_accuracy: 0.7607 - 237s/epoch - 4s/step\n",
            "Epoch 5/20\n",
            "63/63 - 233s - loss: 0.1418 - accuracy: 0.9883 - val_loss: 0.9559 - val_accuracy: 0.7744 - 233s/epoch - 4s/step\n",
            "Epoch 6/20\n",
            "63/63 - 228s - loss: 0.1038 - accuracy: 0.9990 - val_loss: 0.8654 - val_accuracy: 0.7939 - 228s/epoch - 4s/step\n",
            "Epoch 7/20\n",
            "63/63 - 237s - loss: 0.0907 - accuracy: 1.0000 - val_loss: 0.8185 - val_accuracy: 0.8105 - 237s/epoch - 4s/step\n",
            "Epoch 8/20\n",
            "63/63 - 238s - loss: 0.0884 - accuracy: 1.0000 - val_loss: 0.7896 - val_accuracy: 0.8135 - 238s/epoch - 4s/step\n",
            "Epoch 9/20\n",
            "63/63 - 277s - loss: 0.0873 - accuracy: 1.0000 - val_loss: 0.7719 - val_accuracy: 0.8135 - 277s/epoch - 4s/step\n",
            "Epoch 10/20\n",
            "63/63 - 231s - loss: 0.0869 - accuracy: 1.0000 - val_loss: 0.7802 - val_accuracy: 0.8096 - 231s/epoch - 4s/step\n",
            "Epoch 11/20\n",
            "63/63 - 234s - loss: 0.0862 - accuracy: 1.0000 - val_loss: 0.7696 - val_accuracy: 0.8086 - 234s/epoch - 4s/step\n",
            "Epoch 12/20\n",
            "63/63 - 237s - loss: 0.0858 - accuracy: 1.0000 - val_loss: 0.7609 - val_accuracy: 0.8096 - 237s/epoch - 4s/step\n",
            "Epoch 13/20\n",
            "63/63 - 231s - loss: 0.0854 - accuracy: 1.0000 - val_loss: 0.7482 - val_accuracy: 0.8145 - 231s/epoch - 4s/step\n",
            "Epoch 14/20\n",
            "63/63 - 232s - loss: 0.0851 - accuracy: 1.0000 - val_loss: 0.7453 - val_accuracy: 0.8145 - 232s/epoch - 4s/step\n",
            "Epoch 15/20\n",
            "63/63 - 274s - loss: 0.0849 - accuracy: 1.0000 - val_loss: 0.7428 - val_accuracy: 0.8174 - 274s/epoch - 4s/step\n",
            "Epoch 16/20\n",
            "63/63 - 230s - loss: 0.0848 - accuracy: 1.0000 - val_loss: 0.7421 - val_accuracy: 0.8154 - 230s/epoch - 4s/step\n",
            "Epoch 17/20\n",
            "63/63 - 230s - loss: 0.0846 - accuracy: 1.0000 - val_loss: 0.7465 - val_accuracy: 0.8135 - 230s/epoch - 4s/step\n",
            "Epoch 18/20\n",
            "63/63 - 233s - loss: 0.0844 - accuracy: 1.0000 - val_loss: 0.7409 - val_accuracy: 0.8125 - 233s/epoch - 4s/step\n",
            "Epoch 19/20\n",
            "63/63 - 234s - loss: 0.0843 - accuracy: 1.0000 - val_loss: 0.7370 - val_accuracy: 0.8164 - 234s/epoch - 4s/step\n",
            "Epoch 20/20\n",
            "63/63 - 235s - loss: 0.0842 - accuracy: 1.0000 - val_loss: 0.7343 - val_accuracy: 0.8203 - 235s/epoch - 4s/step\n"
          ]
        }
      ]
    },
    {
      "cell_type": "code",
      "source": [
        "plt.figure()\n",
        "plt.ylabel(\"Loss (training and validation)\")\n",
        "plt.xlabel(\"Training Steps\")\n",
        "plt.ylim([0,2])\n",
        "plt.plot(hist[\"loss\"])\n",
        "plt.plot(hist[\"val_loss\"])\n",
        "\n",
        "plt.figure()\n",
        "plt.ylabel(\"Accuracy (training and validation)\")\n",
        "plt.xlabel(\"Training Steps\")\n",
        "plt.ylim([0,1])\n",
        "plt.plot(hist[\"accuracy\"])\n",
        "plt.plot(hist[\"val_accuracy\"])"
      ],
      "metadata": {
        "id": "AC4a8iJAPyn0",
        "colab": {
          "base_uri": "https://localhost:8080/",
          "height": 910
        },
        "outputId": "08b203d4-d0cc-4e2d-d3ad-d4e47c9b98b7"
      },
      "execution_count": null,
      "outputs": [
        {
          "output_type": "execute_result",
          "data": {
            "text/plain": [
              "[<matplotlib.lines.Line2D at 0x7c8963854280>]"
            ]
          },
          "metadata": {},
          "execution_count": 15
        },
        {
          "output_type": "display_data",
          "data": {
            "text/plain": [
              "<Figure size 640x480 with 1 Axes>"
            ],
            "image/png": "[encoded data removed]"
          },
          "metadata": {}
        },
        {
          "output_type": "display_data",
          "data": {
            "text/plain": [
              "<Figure size 640x480 with 1 Axes>"
            ],
            "image/png": "[encoded data removed]"
          },
          "metadata": {}
        }
      ]
    },
    {
      "cell_type": "code",
      "source": [
        "#guardar el modelo guardado\n",
        "from google.colab import drive\n",
        "drive.mount('/content/drive')\n",
        "\n",
        "model.save('/content/drive/My Drive/Curso_IA/modelo_entrenado.h5')"
      ],
      "metadata": {
        "id": "14PeWtvPG4of"
      },
      "execution_count": null,
      "outputs": []
    }
  ]
}